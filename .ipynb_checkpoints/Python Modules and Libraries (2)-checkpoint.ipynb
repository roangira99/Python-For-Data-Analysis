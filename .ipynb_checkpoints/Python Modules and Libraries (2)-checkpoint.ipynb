{
 "cells": [
  {
   "cell_type": "markdown",
   "id": "1810d5a6",
   "metadata": {},
   "source": [
    "### Python modules (continuation)"
   ]
  },
  {
   "cell_type": "markdown",
   "id": "1ecd2458",
   "metadata": {},
   "source": [
    "<p>To <b>import a module</b>, you will need the <b>import</b> keyword</p>"
   ]
  },
  {
   "cell_type": "code",
   "execution_count": 3,
   "id": "23152ff1",
   "metadata": {},
   "outputs": [],
   "source": [
    "import geometry"
   ]
  },
  {
   "cell_type": "markdown",
   "id": "8827bb83",
   "metadata": {},
   "source": [
    "<p>You can then use the different items defined in your module</p>"
   ]
  },
  {
   "cell_type": "code",
   "execution_count": 22,
   "id": "e7149778",
   "metadata": {},
   "outputs": [],
   "source": [
    "squa = geometry.square(4)\n",
    "tri = geometry.triangle(3, 6, 5)"
   ]
  },
  {
   "cell_type": "code",
   "execution_count": 23,
   "id": "80588741",
   "metadata": {},
   "outputs": [
    {
     "name": "stdout",
     "output_type": "stream",
     "text": [
      "3.14159265359\n"
     ]
    }
   ],
   "source": [
    "print(geometry.pi)"
   ]
  },
  {
   "cell_type": "code",
   "execution_count": 24,
   "id": "a412cc4e",
   "metadata": {},
   "outputs": [
    {
     "data": {
      "text/plain": [
       "16"
      ]
     },
     "execution_count": 24,
     "metadata": {},
     "output_type": "execute_result"
    }
   ],
   "source": [
    "geometry.area(squa)"
   ]
  },
  {
   "cell_type": "code",
   "execution_count": 27,
   "id": "7255da6d",
   "metadata": {},
   "outputs": [],
   "source": [
    "import geometry as geo"
   ]
  },
  {
   "cell_type": "code",
   "execution_count": 30,
   "id": "856eeb09",
   "metadata": {},
   "outputs": [],
   "source": [
    "squa2 = geo.square(4)"
   ]
  },
  {
   "cell_type": "code",
   "execution_count": 31,
   "id": "e40e632b",
   "metadata": {},
   "outputs": [
    {
     "data": {
      "text/plain": [
       "16"
      ]
     },
     "execution_count": 31,
     "metadata": {},
     "output_type": "execute_result"
    }
   ],
   "source": [
    "geo.area(squa2)"
   ]
  },
  {
   "cell_type": "code",
   "execution_count": 32,
   "id": "7fd111eb",
   "metadata": {},
   "outputs": [],
   "source": [
    "from geometry import pi"
   ]
  },
  {
   "cell_type": "code",
   "execution_count": 36,
   "id": "8fbc2c5b",
   "metadata": {},
   "outputs": [
    {
     "name": "stdout",
     "output_type": "stream",
     "text": [
      "3.14159265359\n"
     ]
    }
   ],
   "source": [
    "print(pi)"
   ]
  },
  {
   "cell_type": "code",
   "execution_count": 35,
   "id": "4eb158c4",
   "metadata": {},
   "outputs": [
    {
     "name": "stdout",
     "output_type": "stream",
     "text": [
      "50.26548245744\n"
     ]
    }
   ],
   "source": [
    "print(pi * geo.area(squa2))"
   ]
  },
  {
   "cell_type": "code",
   "execution_count": 40,
   "id": "73e12757",
   "metadata": {},
   "outputs": [],
   "source": [
    "# importing all objects contained in a module\n",
    "from geometry import *\n",
    "# However, this is not recommended, in order to avoid, for examle, conflicts between \n",
    "# several modules having identical function names"
   ]
  },
  {
   "cell_type": "markdown",
   "id": "1a233d15",
   "metadata": {},
   "source": [
    "### When a module is not enough: Packages"
   ]
  },
  {
   "cell_type": "markdown",
   "id": "c8972764",
   "metadata": {},
   "source": [
    "<p>A package (sometimes called a <b>library</b>) is a collection of <b>Python modules.</b><br>A package is simply a folder containing several Python files and an additional file named <b>__init__.py</b>. This differentiates a package from an ordinary folder containing only Python codes.</p>"
   ]
  },
  {
   "cell_type": "markdown",
   "id": "402ff182",
   "metadata": {},
   "source": [
    "<p>You will need to use the <b>.</b> operator to access the module after importing the package. For example, if our geometry module above was to be put inside a package(file) also named geometry, this is how we would access it:</p>"
   ]
  },
  {
   "cell_type": "code",
   "execution_count": null,
   "id": "ef6a7366",
   "metadata": {},
   "outputs": [],
   "source": [
    "import geometry # import all the geometry package\n",
    "\n",
    "print(geometry.variables.pi) # -> 3.145...\n",
    "squa = geometry.classes.square(4)\n",
    "geometry.functions.area(squa)\n",
    "\n",
    "# The operations above show that our geometry module is in \n",
    "# three different files instead of just one namely variables, \n",
    "# classes and funtions"
   ]
  },
  {
   "cell_type": "markdown",
   "id": "92b913c5",
   "metadata": {},
   "source": [
    "<p>You can also import only one module from the package</p>"
   ]
  },
  {
   "cell_type": "code",
   "execution_count": null,
   "id": "a634f469",
   "metadata": {},
   "outputs": [],
   "source": [
    "import geometry,variables as var\n",
    "\n",
    "print(var.pi) # 3.1415"
   ]
  },
  {
   "cell_type": "markdown",
   "id": "92c8aeac",
   "metadata": {},
   "source": [
    "### Packages in Data Analysis"
   ]
  },
  {
   "cell_type": "markdown",
   "id": "2086f306",
   "metadata": {},
   "source": [
    "<p>Packages have a variety of capabilities that enable you to do multiple tasks such as:<br></p>"
   ]
  }
 ],
 "metadata": {
  "kernelspec": {
   "display_name": "Python 3",
   "language": "python",
   "name": "python3"
  },
  "language_info": {
   "codemirror_mode": {
    "name": "ipython",
    "version": 3
   },
   "file_extension": ".py",
   "mimetype": "text/x-python",
   "name": "python",
   "nbconvert_exporter": "python",
   "pygments_lexer": "ipython3",
   "version": "3.8.5"
  }
 },
 "nbformat": 4,
 "nbformat_minor": 5
}
