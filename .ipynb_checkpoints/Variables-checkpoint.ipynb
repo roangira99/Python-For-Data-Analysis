{
 "cells": [
  {
   "cell_type": "markdown",
   "id": "4e42d012",
   "metadata": {},
   "source": [
    "## Variables"
   ]
  },
  {
   "cell_type": "markdown",
   "id": "bbc9e6b1",
   "metadata": {},
   "source": [
    "<P>Assigning a value to a variable for the first time is called initialization.<br> \n",
    " You cannot access a variable that has not yet been initialized.<br>\n",
    " The following shows demonstrates assigning a value to a variable: <p>\n",
    "    "
   ]
  },
  {
   "cell_type": "code",
   "execution_count": 2,
   "id": "a6dfeeb0",
   "metadata": {},
   "outputs": [
    {
     "name": "stdout",
     "output_type": "stream",
     "text": [
      "500\n"
     ]
    }
   ],
   "source": [
    "checkingAccount = 500\n",
    "savingsAccount = 1000\n",
    "print (checkingAccount)"
   ]
  },
  {
   "cell_type": "markdown",
   "id": "e15fda75",
   "metadata": {},
   "source": [
    "## Operations between variables"
   ]
  },
  {
   "cell_type": "code",
   "execution_count": 3,
   "id": "1ecff40f",
   "metadata": {},
   "outputs": [
    {
     "name": "stdout",
     "output_type": "stream",
     "text": [
      "1100\n"
     ]
    }
   ],
   "source": [
    "# add 100 to our savings\n",
    "savingsAccount = savingsAccount + 100\n",
    "print(savingsAccount)"
   ]
  },
  {
   "cell_type": "code",
   "execution_count": 4,
   "id": "525582b1",
   "metadata": {},
   "outputs": [
    {
     "name": "stdout",
     "output_type": "stream",
     "text": [
      "450\n"
     ]
    }
   ],
   "source": [
    "# remove 50 from our checking account\n",
    "checkingAccount = checkingAccount - 50\n",
    "print(checkingAccount)"
   ]
  },
  {
   "cell_type": "code",
   "execution_count": 5,
   "id": "91446439",
   "metadata": {},
   "outputs": [
    {
     "name": "stdout",
     "output_type": "stream",
     "text": [
      "3.9\n"
     ]
    }
   ],
   "source": [
    "# calculate the number of days to save to reach 5000\n",
    "numberDaysSave = (5000 - savingsAccount) / 1000\n",
    "print(numberDaysSave)"
   ]
  },
  {
   "cell_type": "code",
   "execution_count": 6,
   "id": "89fe5c59",
   "metadata": {},
   "outputs": [
    {
     "name": "stdout",
     "output_type": "stream",
     "text": [
      "590\n"
     ]
    }
   ],
   "source": [
    "# update our checkingaccount (again) after the daily gains/losses\n",
    "checkingAccount = checkingAccount + (30 - 10) * 7\n",
    "print(checkingAccount)"
   ]
  },
  {
   "cell_type": "code",
   "execution_count": 11,
   "id": "bb346af9",
   "metadata": {},
   "outputs": [
    {
     "name": "stdout",
     "output_type": "stream",
     "text": [
      "100\n",
      "729\n",
      "2\n"
     ]
    }
   ],
   "source": [
    "print(savingsAccount % 500)\n",
    "\n",
    "print(9 ** 3) # -> (9*9*9 OR 9^3)\n",
    "\n",
    "print(savingsAccount // 500) # '//' is integer division (rounded down)"
   ]
  },
  {
   "cell_type": "markdown",
   "id": "cbd74307",
   "metadata": {},
   "source": [
    "### Writing shorter code with simplified operators"
   ]
  },
  {
   "cell_type": "code",
   "execution_count": 12,
   "id": "033639f0",
   "metadata": {},
   "outputs": [
    {
     "name": "stdout",
     "output_type": "stream",
     "text": [
      "1200\n",
      "1300\n"
     ]
    }
   ],
   "source": [
    "# long version \n",
    "savingsAccount = savingsAccount + 100\n",
    "print(savingsAccount)\n",
    "\n",
    "# equivalent short version\n",
    "savingsAccount += 100\n",
    "print(savingsAccount)"
   ]
  },
  {
   "cell_type": "markdown",
   "id": "8752e19a",
   "metadata": {},
   "source": [
    "### Storing other types of values in variables"
   ]
  },
  {
   "cell_type": "code",
   "execution_count": null,
   "id": "1232bfa0",
   "metadata": {},
   "outputs": [],
   "source": [
    "firstName = 'Gwendaline'\n",
    "interestRate = 1.5\n",
    "address = \"15 19 Bloomsbury Way, Holborn, London, WC1A 2TH\""
   ]
  }
 ],
 "metadata": {
  "kernelspec": {
   "display_name": "Python 3",
   "language": "python",
   "name": "python3"
  },
  "language_info": {
   "codemirror_mode": {
    "name": "ipython",
    "version": 3
   },
   "file_extension": ".py",
   "mimetype": "text/x-python",
   "name": "python",
   "nbconvert_exporter": "python",
   "pygments_lexer": "ipython3",
   "version": "3.8.5"
  }
 },
 "nbformat": 4,
 "nbformat_minor": 5
}
