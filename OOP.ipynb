{
 "cells": [
  {
   "cell_type": "markdown",
   "id": "78402ab1",
   "metadata": {},
   "source": [
    "## Object-Oriented Programming"
   ]
  },
  {
   "cell_type": "markdown",
   "id": "b1bc9953",
   "metadata": {},
   "source": [
    "<p>In Python everything is an object</p>\n",
    "<p>The concept of a group or category of objects is called a <b>class</b>. A class can be considered as the construction diagram of an object that will define the characteristics of all objects of this type and their features.</p><br>From this class, you will be able to create different models of an object."
   ]
  },
  {
   "cell_type": "markdown",
   "id": "d8ba8f42",
   "metadata": {},
   "source": [
    "<p>Taking the example of a Car class:<br>\n",
    "    • Its characteristics are called attributes E.g. four wheels<p/>\n",
    "    • It functonalites are called methods E.g. drive, brake etc.\n",
    "    \n",
    "<p>Therefore, you can create several objects of the same type, but with different attributes-these are called <b>class instances</b>.</p>"
   ]
  },
  {
   "cell_type": "markdown",
   "id": "9a3384c2",
   "metadata": {},
   "source": [
    "#### Focus on Methods"
   ]
  },
  {
   "cell_type": "markdown",
   "id": "d0edf491",
   "metadata": {},
   "source": [
    "<p>A class method is a function that is only available for the instances of a particular class.</p><br>\n",
    "<p>The use of a method is always done via the variableName.method() function E.g. strings have a method called lower() which will transform all the text contained in an object to lower case.</p>"
   ]
  },
  {
   "cell_type": "code",
   "execution_count": 3,
   "id": "8222dd44",
   "metadata": {},
   "outputs": [
    {
     "data": {
      "text/plain": [
       "'hello world!'"
      ]
     },
     "execution_count": 3,
     "metadata": {},
     "output_type": "execute_result"
    }
   ],
   "source": [
    "a = \"HeLLo wORlD!\"\n",
    "a.lower()"
   ]
  },
  {
   "cell_type": "markdown",
   "id": "6c6c5616",
   "metadata": {},
   "source": [
    "<p>In the same way as with functions, class methods can take parameters.</p>"
   ]
  },
  {
   "cell_type": "markdown",
   "id": "d1d89ac7",
   "metadata": {},
   "source": [
    "#### String Methods"
   ]
  },
  {
   "cell_type": "markdown",
   "id": "4936c1a3",
   "metadata": {},
   "source": [
    "<p>The most common method include:<br>\n",
    "    • upper(): returns the whole text in upper case.<br>\n",
    "    • capitalize(): returns the whole text in lowercase with the first letter capitalized<br>\n",
    "    • replace(old, new): this method takes two arguments, both of which are strings. The method<br> returns the original string with all occurences of old replaced with new.<br>\n",
    "    •find(string): returns either the index of the first occurrence of the string passed in the argument, or -1 if it does not find it.</p>"
   ]
  },
  {
   "cell_type": "code",
   "execution_count": 4,
   "id": "ceb4a87c",
   "metadata": {},
   "outputs": [
    {
     "name": "stdout",
     "output_type": "stream",
     "text": [
      "HERE IS AN EXAMPLE OF A STRING\n",
      "Here is an example of a string\n",
      "here is an test of a STRING\n",
      "8\n",
      "-1\n"
     ]
    }
   ],
   "source": [
    "text = \"here is an EXAMPLE of a STRING\"\n",
    "a = text.upper()\n",
    "print(a)\n",
    "print(text.capitalize())\n",
    "print(text.replace('EXAMPLE', 'test'))\n",
    "print(text.find('an'))\n",
    "print(text.find('granite'))"
   ]
  },
  {
   "cell_type": "code",
   "execution_count": null,
   "id": "8fd814fd",
   "metadata": {},
   "outputs": [],
   "source": []
  }
 ],
 "metadata": {
  "kernelspec": {
   "display_name": "Python 3",
   "language": "python",
   "name": "python3"
  },
  "language_info": {
   "codemirror_mode": {
    "name": "ipython",
    "version": 3
   },
   "file_extension": ".py",
   "mimetype": "text/x-python",
   "name": "python",
   "nbconvert_exporter": "python",
   "pygments_lexer": "ipython3",
   "version": "3.8.5"
  }
 },
 "nbformat": 4,
 "nbformat_minor": 5
}
