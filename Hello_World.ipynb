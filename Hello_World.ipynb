{
 "cells": [
  {
   "cell_type": "code",
   "execution_count": 11,
   "id": "316732b3",
   "metadata": {},
   "outputs": [
    {
     "name": "stdout",
     "output_type": "stream",
     "text": [
      "Hello world!\n"
     ]
    }
   ],
   "source": [
    "print('Hello world!')"
   ]
  },
  {
   "cell_type": "markdown",
   "id": "7e1a5a12",
   "metadata": {},
   "source": [
    "### Testing"
   ]
  },
  {
   "cell_type": "markdown",
   "id": "f0982aea",
   "metadata": {},
   "source": [
    "*Testing*"
   ]
  },
  {
   "cell_type": "markdown",
   "id": "45d9eca2",
   "metadata": {},
   "source": [
    "# A level 1 title"
   ]
  },
  {
   "cell_type": "markdown",
   "id": "6f1a5fc8",
   "metadata": {},
   "source": [
    "Here is some text to introduce markdown"
   ]
  },
  {
   "cell_type": "markdown",
   "id": "ec9a0782",
   "metadata": {},
   "source": [
    "## level 2 title"
   ]
  },
  {
   "cell_type": "markdown",
   "id": "b6ed3a78",
   "metadata": {},
   "source": [
    "**This** is very important"
   ]
  },
  {
   "cell_type": "markdown",
   "id": "7b59e1ce",
   "metadata": {},
   "source": [
    "## other level 2 title"
   ]
  },
  {
   "cell_type": "markdown",
   "id": "d84c2ce6",
   "metadata": {},
   "source": [
    "But *this is* as well!"
   ]
  },
  {
   "cell_type": "code",
   "execution_count": null,
   "id": "e57a80e8",
   "metadata": {},
   "outputs": [],
   "source": []
  }
 ],
 "metadata": {
  "kernelspec": {
   "display_name": "Python 3",
   "language": "python",
   "name": "python3"
  },
  "language_info": {
   "codemirror_mode": {
    "name": "ipython",
    "version": 3
   },
   "file_extension": ".py",
   "mimetype": "text/x-python",
   "name": "python",
   "nbconvert_exporter": "python",
   "pygments_lexer": "ipython3",
   "version": "3.8.5"
  }
 },
 "nbformat": 4,
 "nbformat_minor": 5
}
