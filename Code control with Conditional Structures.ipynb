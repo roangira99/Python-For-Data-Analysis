{
 "cells": [
  {
   "cell_type": "markdown",
   "id": "b3a0de01",
   "metadata": {},
   "source": [
    "### If Statement"
   ]
  },
  {
   "cell_type": "code",
   "execution_count": 2,
   "id": "d700b83d",
   "metadata": {},
   "outputs": [
    {
     "name": "stdout",
     "output_type": "stream",
     "text": [
      "What is your name, dear stranger? Shaka\n"
     ]
    }
   ],
   "source": [
    "username = input('What is your name, dear stranger? ')"
   ]
  },
  {
   "cell_type": "code",
   "execution_count": 5,
   "id": "d5ac8aef",
   "metadata": {},
   "outputs": [
    {
     "name": "stdout",
     "output_type": "stream",
     "text": [
      "Hello Shaka!\n"
     ]
    }
   ],
   "source": [
    "if len(username) > 0:\n",
    "    print(f'Hello {username}!')\n",
    "else:\n",
    "    print('Hello user!')\n"
   ]
  },
  {
   "cell_type": "markdown",
   "id": "9d886b51",
   "metadata": {},
   "source": [
    "### Use Booleans: The No-Half-Measure Type"
   ]
  },
  {
   "cell_type": "markdown",
   "id": "967fa9cc",
   "metadata": {},
   "source": [
    "<p>In Python, to validate a condition, you use a special type called <b>boolean</b>. A boolean variable can only contain two values: <b>True</b> or <b>False</b></p>"
   ]
  },
  {
   "cell_type": "code",
   "execution_count": 6,
   "id": "865df7df",
   "metadata": {},
   "outputs": [],
   "source": [
    "imAProdigy = True\n",
    "iHateChicken = False"
   ]
  },
  {
   "cell_type": "code",
   "execution_count": 7,
   "id": "f355f85e",
   "metadata": {},
   "outputs": [
    {
     "data": {
      "text/plain": [
       "True"
      ]
     },
     "execution_count": 7,
     "metadata": {},
     "output_type": "execute_result"
    }
   ],
   "source": [
    "weather = 'The weather is great!'\n",
    "weather.startswith(\"The weather\")"
   ]
  },
  {
   "cell_type": "markdown",
   "id": "68bd8ade",
   "metadata": {},
   "source": [
    "<p>startswith is a method of the string class, which returns True when the string starts exactly with the string passed as a parameter or False if it doesn't</p><br>\n",
    "<p>To produce booleans you can also use <b>comparison operators</b></p>"
   ]
  },
  {
   "cell_type": "markdown",
   "id": "2d629ca4",
   "metadata": {},
   "source": [
    "#### Comparison Operators"
   ]
  },
  {
   "cell_type": "markdown",
   "id": "64222aa8",
   "metadata": {},
   "source": [
    "<p>Comparison operators are used to compare two values</p>"
   ]
  },
  {
   "cell_type": "code",
   "execution_count": 9,
   "id": "1dde3a99",
   "metadata": {},
   "outputs": [
    {
     "name": "stdout",
     "output_type": "stream",
     "text": [
      "You can't get a pilot license\n"
     ]
    }
   ],
   "source": [
    "age = 15\n",
    "\n",
    "if age >= 21:\n",
    "    print(\"You can get a pilot license\")\n",
    "else:\n",
    "    print(\"You can't get a pilot license\")"
   ]
  },
  {
   "cell_type": "markdown",
   "id": "837128a4",
   "metadata": {},
   "source": [
    "#### Logical Operators"
   ]
  },
  {
   "cell_type": "markdown",
   "id": "cce3aab2",
   "metadata": {},
   "source": [
    "<p>They include the <b>AND</b>, <b>OR</b>, and <b>NOT</b> operators</p>"
   ]
  },
  {
   "cell_type": "markdown",
   "id": "cdbb5264",
   "metadata": {},
   "source": [
    "<p>True and True <b>#True</b><br>True and False <b>#False</b><br>False and False <b>#False</b><br>True or False <b>#True</b><br>True or True <b>#True</b><br>False or False <b>#False</b><br>not(True) <b>#False</b><br>not(False) <b>#True</b><br>\n",
    "</p>"
   ]
  },
  {
   "cell_type": "markdown",
   "id": "a1d2f750",
   "metadata": {},
   "source": [
    "<p> You can mix more than two expressions </p>"
   ]
  },
  {
   "cell_type": "markdown",
   "id": "89598f83",
   "metadata": {},
   "source": [
    "<p>True and True and True <b>#True</b><br>True and True and False <b>#False</b><br>True or False or False <b>#True</b><br>False or False or False <b>#False</b></p>"
   ]
  },
  {
   "cell_type": "markdown",
   "id": "058487a0",
   "metadata": {},
   "source": [
    "<p>Logical operators respect the priorities of operations: the <b>not</b> operator is applied first, then the <b>and</b> operator, then the <b>or</b> operator</p>"
   ]
  },
  {
   "cell_type": "markdown",
   "id": "13edcd5e",
   "metadata": {},
   "source": [
    "<p>False or True and True <b>#True</b><br>not(False) and True or False <b>#True</b></p>"
   ]
  },
  {
   "cell_type": "markdown",
   "id": "8d6df4ae",
   "metadata": {},
   "source": [
    "<p>You can use parentheses to change the order</p>"
   ]
  },
  {
   "cell_type": "code",
   "execution_count": 11,
   "id": "da88c172",
   "metadata": {},
   "outputs": [
    {
     "data": {
      "text/plain": [
       "True"
      ]
     },
     "execution_count": 11,
     "metadata": {},
     "output_type": "execute_result"
    }
   ],
   "source": [
    "(True and False) or True # without the bracket this would be false"
   ]
  },
  {
   "cell_type": "code",
   "execution_count": 12,
   "id": "fec798b1",
   "metadata": {},
   "outputs": [
    {
     "data": {
      "text/plain": [
       "True"
      ]
     },
     "execution_count": 12,
     "metadata": {},
     "output_type": "execute_result"
    }
   ],
   "source": [
    "not(True and False or not(True))"
   ]
  },
  {
   "cell_type": "markdown",
   "id": "e565e4e1",
   "metadata": {},
   "source": [
    "#### The in Operator"
   ]
  },
  {
   "cell_type": "markdown",
   "id": "a79b2bbe",
   "metadata": {},
   "source": [
    "<p>The <b>in</b> operator returns True when a value is found in a sequence (a string or a list) or False if not</p>"
   ]
  },
  {
   "cell_type": "code",
   "execution_count": 13,
   "id": "f7a82847",
   "metadata": {},
   "outputs": [],
   "source": [
    "myList = [4, 2, 3, 2, 10]\n",
    "myStringList = [\"a\", \"b\", \"c\", \"d\"]\n",
    "myString = \"The weather is really good today!\""
   ]
  },
  {
   "cell_type": "code",
   "execution_count": 14,
   "id": "16c536fc",
   "metadata": {},
   "outputs": [
    {
     "data": {
      "text/plain": [
       "True"
      ]
     },
     "execution_count": 14,
     "metadata": {},
     "output_type": "execute_result"
    }
   ],
   "source": [
    "4 in myList"
   ]
  },
  {
   "cell_type": "code",
   "execution_count": 15,
   "id": "5d154dc4",
   "metadata": {},
   "outputs": [
    {
     "data": {
      "text/plain": [
       "False"
      ]
     },
     "execution_count": 15,
     "metadata": {},
     "output_type": "execute_result"
    }
   ],
   "source": [
    "0 in myList"
   ]
  },
  {
   "cell_type": "code",
   "execution_count": 16,
   "id": "96a9e230",
   "metadata": {},
   "outputs": [
    {
     "data": {
      "text/plain": [
       "False"
      ]
     },
     "execution_count": 16,
     "metadata": {},
     "output_type": "execute_result"
    }
   ],
   "source": [
    "20 in myStringList"
   ]
  },
  {
   "cell_type": "code",
   "execution_count": 17,
   "id": "f3c0bbfb",
   "metadata": {},
   "outputs": [
    {
     "data": {
      "text/plain": [
       "True"
      ]
     },
     "execution_count": 17,
     "metadata": {},
     "output_type": "execute_result"
    }
   ],
   "source": [
    "\"c\" in myStringList"
   ]
  },
  {
   "cell_type": "code",
   "execution_count": 18,
   "id": "6719692b",
   "metadata": {},
   "outputs": [
    {
     "data": {
      "text/plain": [
       "False"
      ]
     },
     "execution_count": 18,
     "metadata": {},
     "output_type": "execute_result"
    }
   ],
   "source": [
    "\"h\" in myStringList"
   ]
  },
  {
   "cell_type": "code",
   "execution_count": 19,
   "id": "77902097",
   "metadata": {},
   "outputs": [
    {
     "data": {
      "text/plain": [
       "True"
      ]
     },
     "execution_count": 19,
     "metadata": {},
     "output_type": "execute_result"
    }
   ],
   "source": [
    "\"weather\" in myString"
   ]
  },
  {
   "cell_type": "code",
   "execution_count": 20,
   "id": "03b2d91f",
   "metadata": {},
   "outputs": [
    {
     "data": {
      "text/plain": [
       "False"
      ]
     },
     "execution_count": 20,
     "metadata": {},
     "output_type": "execute_result"
    }
   ],
   "source": [
    "\"sunny\" in myString"
   ]
  },
  {
   "cell_type": "markdown",
   "id": "3e55b8da",
   "metadata": {},
   "source": [
    "#### Manage a chain of conditions"
   ]
  },
  {
   "cell_type": "markdown",
   "id": "b3a3aa0f",
   "metadata": {},
   "source": [
    "<p>Using the <b>elif</b> keyword</p>"
   ]
  },
  {
   "cell_type": "code",
   "execution_count": 24,
   "id": "39200649",
   "metadata": {},
   "outputs": [
    {
     "name": "stdout",
     "output_type": "stream",
     "text": [
      "What is your account balance? 12345\n",
      "Loan granted\n"
     ]
    }
   ],
   "source": [
    "account = int(input(\"What is your account balance? \"))\n",
    "\n",
    "if account > 10000:\n",
    "    print(\"Loan granted\")\n",
    "elif account >= 100 and account < 10000:\n",
    "    print(\"Loan in process of validation: under study\")\n",
    "else:\n",
    "    print(\"Loan denied\")"
   ]
  }
 ],
 "metadata": {
  "kernelspec": {
   "display_name": "Python 3",
   "language": "python",
   "name": "python3"
  },
  "language_info": {
   "codemirror_mode": {
    "name": "ipython",
    "version": 3
   },
   "file_extension": ".py",
   "mimetype": "text/x-python",
   "name": "python",
   "nbconvert_exporter": "python",
   "pygments_lexer": "ipython3",
   "version": "3.8.5"
  }
 },
 "nbformat": 4,
 "nbformat_minor": 5
}
