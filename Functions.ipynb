{
 "cells": [
  {
   "cell_type": "markdown",
   "id": "f40fb9e9",
   "metadata": {},
   "source": [
    "## Functions"
   ]
  },
  {
   "cell_type": "markdown",
   "id": "92ec8fa0",
   "metadata": {},
   "source": [
    "<p> Functions can group several statements in a block which will be called using a name. </p>"
   ]
  },
  {
   "cell_type": "markdown",
   "id": "eeb960f8",
   "metadata": {},
   "source": [
    "<p> len(): a fucntion that returns the length of an item <br>\n",
    "type(): lets you print the type of a variable <br>\n",
    "pow(a, b): lets you calculate a to the power of b. It is equivalent to writing a**b <br>\n",
    "abs(): returns the absolute value of a number. </p>\n",
    "   "
   ]
  },
  {
   "cell_type": "code",
   "execution_count": 2,
   "id": "5cb5ad67",
   "metadata": {},
   "outputs": [
    {
     "name": "stdout",
     "output_type": "stream",
     "text": [
      "5\n",
      "<class 'str'>\n",
      "9\n",
      "70\n"
     ]
    }
   ],
   "source": [
    "a = \"apple\"\n",
    "print(len(a))\n",
    "print(type(a))\n",
    "print(pow(3, 2))\n",
    "print(abs(-70))"
   ]
  },
  {
   "cell_type": "markdown",
   "id": "cbb9bfb9",
   "metadata": {},
   "source": [
    "### Writing your own functions"
   ]
  },
  {
   "cell_type": "markdown",
   "id": "bcd1e045",
   "metadata": {},
   "source": [
    "<p> A function is defined by the keyword def followed by the name of the funtion </p>"
   ]
  },
  {
   "cell_type": "code",
   "execution_count": 5,
   "id": "73d3c128",
   "metadata": {},
   "outputs": [
    {
     "name": "stdout",
     "output_type": "stream",
     "text": [
      "9\n"
     ]
    }
   ],
   "source": [
    "def perimeter():\n",
    "    dimension1 = 3\n",
    "    dimension2 = 3\n",
    "    dimension3 = 3\n",
    "    perimeter = dimension1 + dimension2 + dimension3\n",
    "    print(perimeter)\n",
    "perimeter()"
   ]
  },
  {
   "cell_type": "markdown",
   "id": "5496f129",
   "metadata": {},
   "source": [
    "<p> The above function isn't entirely useful as not all the dimensions will remain the exact same. <br> To overcome this limitation you must make your function to accept external numbers using <b>parameters</b> </p> "
   ]
  },
  {
   "cell_type": "markdown",
   "id": "0aab0e5f",
   "metadata": {},
   "source": [
    "#### Define the parameters"
   ]
  },
  {
   "cell_type": "code",
   "execution_count": null,
   "id": "80b5a0ad",
   "metadata": {},
   "outputs": [],
   "source": []
  }
 ],
 "metadata": {
  "kernelspec": {
   "display_name": "Python 3",
   "language": "python",
   "name": "python3"
  },
  "language_info": {
   "codemirror_mode": {
    "name": "ipython",
    "version": 3
   },
   "file_extension": ".py",
   "mimetype": "text/x-python",
   "name": "python",
   "nbconvert_exporter": "python",
   "pygments_lexer": "ipython3",
   "version": "3.8.5"
  }
 },
 "nbformat": 4,
 "nbformat_minor": 5
}
