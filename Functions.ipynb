{
 "cells": [
  {
   "cell_type": "markdown",
   "id": "f40fb9e9",
   "metadata": {},
   "source": [
    "## Functions"
   ]
  },
  {
   "cell_type": "markdown",
   "id": "92ec8fa0",
   "metadata": {},
   "source": [
    "<p> Functions can group several statements in a block which will be called using a name. </p>"
   ]
  },
  {
   "cell_type": "markdown",
   "id": "eeb960f8",
   "metadata": {},
   "source": [
    "<p> len(): a fucntion that returns the length of an item <br>\n",
    "type(): lets you print the type of a variable <br>\n",
    "pow(a, b): lets you calculate a to the power of b. It is equivalent to writing a**b <br>\n",
    "abs(): returns the absolute value of a number. </p>\n",
    "   "
   ]
  },
  {
   "cell_type": "code",
   "execution_count": 2,
   "id": "5cb5ad67",
   "metadata": {},
   "outputs": [
    {
     "name": "stdout",
     "output_type": "stream",
     "text": [
      "5\n",
      "<class 'str'>\n",
      "9\n",
      "70\n"
     ]
    }
   ],
   "source": [
    "a = \"apple\"\n",
    "print(len(a))\n",
    "print(type(a))\n",
    "print(pow(3, 2))\n",
    "print(abs(-70))"
   ]
  },
  {
   "cell_type": "markdown",
   "id": "cbb9bfb9",
   "metadata": {},
   "source": [
    "### Writing your own functions"
   ]
  },
  {
   "cell_type": "markdown",
   "id": "bcd1e045",
   "metadata": {},
   "source": [
    "<p> A function is defined by the keyword def followed by the name of the funtion </p>"
   ]
  },
  {
   "cell_type": "code",
   "execution_count": 5,
   "id": "73d3c128",
   "metadata": {},
   "outputs": [
    {
     "name": "stdout",
     "output_type": "stream",
     "text": [
      "9\n"
     ]
    }
   ],
   "source": [
    "def perimeter():\n",
    "    dimension1 = 3\n",
    "    dimension2 = 3\n",
    "    dimension3 = 3\n",
    "    perimeter = dimension1 + dimension2 + dimension3\n",
    "    print(perimeter)\n",
    "perimeter()"
   ]
  },
  {
   "cell_type": "markdown",
   "id": "5496f129",
   "metadata": {},
   "source": [
    "<p> The above function isn't entirely useful as not all the dimensions will remain the exact same. <br> To overcome this limitation you must make your function to accept external numbers using <b>parameters</b> </p> "
   ]
  },
  {
   "cell_type": "markdown",
   "id": "0aab0e5f",
   "metadata": {},
   "source": [
    "#### Define the parameters"
   ]
  },
  {
   "cell_type": "code",
   "execution_count": 1,
   "id": "46fa13d0",
   "metadata": {},
   "outputs": [],
   "source": [
    "def printPerimeter(dimension1, dimension2, dimension3): # paramters\n",
    "    perimeter = dimension1 + dimension2 + dimension3\n",
    "    print(perimeter)"
   ]
  },
  {
   "cell_type": "code",
   "execution_count": 2,
   "id": "f8fdff1d",
   "metadata": {
    "scrolled": true
   },
   "outputs": [
    {
     "name": "stdout",
     "output_type": "stream",
     "text": [
      "15\n",
      "15\n"
     ]
    }
   ],
   "source": [
    "printPerimeter(5, 5, 5) # arguments\n",
    "printPerimeter(9, 1, 5)"
   ]
  },
  {
   "cell_type": "markdown",
   "id": "69d6a749",
   "metadata": {},
   "source": [
    "#### Define a Return Value"
   ]
  },
  {
   "cell_type": "markdown",
   "id": "d1b64cb1",
   "metadata": {},
   "source": [
    "<p>To define a return value, you must explicitly use the <b>return</b> keyword at the end of your function</p>"
   ]
  },
  {
   "cell_type": "code",
   "execution_count": 3,
   "id": "fc404af9",
   "metadata": {},
   "outputs": [],
   "source": [
    "def calculatePerimeter(dimension1, dimension2, dimension3):\n",
    "    perimeter = dimension1 + dimension2 + dimension3\n",
    "    return perimeter"
   ]
  },
  {
   "cell_type": "code",
   "execution_count": 5,
   "id": "943acf6a",
   "metadata": {},
   "outputs": [
    {
     "name": "stdout",
     "output_type": "stream",
     "text": [
      "The perimeter of the first triangle is 66 and that of the second is 44.\n"
     ]
    }
   ],
   "source": [
    "perimeter1 = calculatePerimeter(22, 22, 22)\n",
    "perimeter2 = calculatePerimeter(4, 15, 25)\n",
    "\n",
    "print(f\"The perimeter of the first triangle is {perimeter1} and that of the second is {perimeter2}.\")"
   ]
  },
  {
   "cell_type": "markdown",
   "id": "aa8b315e",
   "metadata": {},
   "source": [
    "#### Use the Help Function if You Forget"
   ]
  },
  {
   "cell_type": "markdown",
   "id": "4848c282",
   "metadata": {},
   "source": [
    "<p>In your experience in data analysis, you will often remember the name of a function, but not necessarily what it does or its arguments.</p>\n",
    "<p>The help function is there for that</p>\n",
    "<p>If you run help(functionName) this will print the documentation of this function.</p>"
   ]
  },
  {
   "cell_type": "code",
   "execution_count": 6,
   "id": "e98c1842",
   "metadata": {},
   "outputs": [
    {
     "name": "stdout",
     "output_type": "stream",
     "text": [
      "Help on built-in function pow in module builtins:\n",
      "\n",
      "pow(base, exp, mod=None)\n",
      "    Equivalent to base**exp with 2 arguments or base**exp % mod with 3 arguments\n",
      "    \n",
      "    Some types, such as ints, are able to use a more efficient algorithm when\n",
      "    invoked using the three argument form.\n",
      "\n"
     ]
    }
   ],
   "source": [
    "help(pow)"
   ]
  }
 ],
 "metadata": {
  "kernelspec": {
   "display_name": "Python 3",
   "language": "python",
   "name": "python3"
  },
  "language_info": {
   "codemirror_mode": {
    "name": "ipython",
    "version": 3
   },
   "file_extension": ".py",
   "mimetype": "text/x-python",
   "name": "python",
   "nbconvert_exporter": "python",
   "pygments_lexer": "ipython3",
   "version": "3.8.5"
  }
 },
 "nbformat": 4,
 "nbformat_minor": 5
}
