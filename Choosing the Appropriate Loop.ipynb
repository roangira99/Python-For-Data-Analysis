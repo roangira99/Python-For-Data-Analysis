{
 "cells": [
  {
   "cell_type": "markdown",
   "id": "07d4fc48",
   "metadata": {},
   "source": [
    "### Loop a set number of times with the for Loop"
   ]
  },
  {
   "cell_type": "markdown",
   "id": "52ad3109",
   "metadata": {},
   "source": [
    "<p><b>For</b> loops are used when you know in advance how many times an action will be repeated</p>"
   ]
  },
  {
   "cell_type": "markdown",
   "id": "28b55f28",
   "metadata": {},
   "source": [
    "#### The for Loop in a collection"
   ]
  },
  {
   "cell_type": "markdown",
   "id": "899367f0",
   "metadata": {},
   "source": [
    "<p>Loops in Python are conventionally used to iterate through the different values of a collection</p>"
   ]
  },
  {
   "cell_type": "code",
   "execution_count": 2,
   "id": "96d69102",
   "metadata": {},
   "outputs": [
    {
     "name": "stdout",
     "output_type": "stream",
     "text": [
      "7\n",
      "2\n",
      "4\n",
      "10\n"
     ]
    }
   ],
   "source": [
    "myList = [7,2, 4, 10]\n",
    "\n",
    "for num in myList:\n",
    "    print(num)"
   ]
  },
  {
   "cell_type": "markdown",
   "id": "ba4b7da6",
   "metadata": {},
   "source": [
    "<p>You can also iterate through a string, since string represents a collection of characters.</p>"
   ]
  },
  {
   "cell_type": "code",
   "execution_count": 3,
   "id": "1d9b15c1",
   "metadata": {},
   "outputs": [
    {
     "name": "stdout",
     "output_type": "stream",
     "text": [
      "T\n",
      "h\n",
      "e\n",
      " \n",
      "U\n",
      "n\n",
      "t\n",
      "a\n",
      "m\n",
      "e\n",
      "d\n"
     ]
    }
   ],
   "source": [
    "myString = 'The Untamed'\n",
    "\n",
    "for char in myString:\n",
    "    print(char)"
   ]
  },
  {
   "cell_type": "markdown",
   "id": "6fb2f756",
   "metadata": {},
   "source": [
    "### Loop through a range of integer Values"
   ]
  },
  {
   "cell_type": "markdown",
   "id": "117bfdf9",
   "metadata": {},
   "source": [
    "<p> The range function has the following syntax <b>range(start, stop, step)</b>. However, it is not mandatory to include all of the parameters as they are used in different cases. </p>"
   ]
  },
  {
   "cell_type": "markdown",
   "id": "0045b56c",
   "metadata": {},
   "source": [
    "<p><b>start</b>: the first number of the sequence<br><b>stop</b>: corresponds to the last number of the sequence, non-inclusive. The function will generate numbers from <b>start</b> to <b>stop-1</b><br><b>step</b>: the step between each generated number<br></p>"
   ]
  },
  {
   "cell_type": "code",
   "execution_count": 7,
   "id": "36947461",
   "metadata": {},
   "outputs": [
    {
     "name": "stdout",
     "output_type": "stream",
     "text": [
      "0\n",
      "2\n",
      "4\n"
     ]
    }
   ],
   "source": [
    "for i in range(0, 5, 2):\n",
    "    print(i)"
   ]
  },
  {
   "cell_type": "code",
   "execution_count": 6,
   "id": "e40a4b31",
   "metadata": {},
   "outputs": [
    {
     "name": "stdout",
     "output_type": "stream",
     "text": [
      "0\n",
      "1\n",
      "2\n",
      "3\n",
      "4\n"
     ]
    }
   ],
   "source": [
    "for i in range(0, 5):\n",
    "    print(i)"
   ]
  },
  {
   "cell_type": "code",
   "execution_count": 9,
   "id": "856de4ba",
   "metadata": {},
   "outputs": [
    {
     "name": "stdout",
     "output_type": "stream",
     "text": [
      "0\n",
      "1\n",
      "2\n",
      "3\n",
      "4\n"
     ]
    }
   ],
   "source": [
    "for i in range(5):\n",
    "    print(i)"
   ]
  },
  {
   "cell_type": "markdown",
   "id": "b335d2b9",
   "metadata": {},
   "source": [
    "<p><b>Note:</b> The <b>for loop</b> is perfectly suited when you have to perform an action a certain number of times known in advance or an action for each item of a collection. For all other cases, we can make a <b>conditional loop</b>: a loop that does not iterate through a collection, but according to a condition. </p>"
   ]
  },
  {
   "cell_type": "markdown",
   "id": "b83bf3bb",
   "metadata": {},
   "source": [
    "#### Looping According to a condition with the while Loop"
   ]
  },
  {
   "cell_type": "markdown",
   "id": "f3b57c9e",
   "metadata": {},
   "source": [
    "<p>A <b>while</b> loop is the conditional loop in Python.<br>It will run <b>as long as a condition is met.</b></p>"
   ]
  },
  {
   "cell_type": "code",
   "execution_count": 10,
   "id": "6c13e0ab",
   "metadata": {},
   "outputs": [
    {
     "name": "stdout",
     "output_type": "stream",
     "text": [
      "I planted 1 trees\n",
      "I planted 2 trees\n",
      "I planted 3 trees\n",
      "I planted 4 trees\n",
      "I planted 5 trees\n",
      "I planted 6 trees\n",
      "I planted 7 trees\n",
      "I planted 8 trees\n",
      "I planted 9 trees\n",
      "I planted 10 trees\n",
      "I have a nice mini forest!\n"
     ]
    }
   ],
   "source": [
    "numTrees = 0\n",
    "\n",
    "while numTrees < 10:\n",
    "    numTrees+=1\n",
    "    print(f'I planted {numTrees} trees')\n",
    "\n",
    "print(\"I have a nice mini forest!\")"
   ]
  },
  {
   "cell_type": "markdown",
   "id": "d32f6cb2",
   "metadata": {},
   "source": [
    "<p>If the condition in the while loop is never met, the program will never exit the loop. In programming, this is called an <b>Infnite loop</b> and should be avoided otherwise the program will crash.</p>"
   ]
  },
  {
   "cell_type": "markdown",
   "id": "e44dc97b",
   "metadata": {},
   "source": [
    "#### Skip some statements within your loop"
   ]
  },
  {
   "cell_type": "markdown",
   "id": "45350c2c",
   "metadata": {},
   "source": [
    "<p>There will be situations where you will want to skip some of the iterations within your loop, or even terminate the loop prematurely.<br>For example, you want to repeat something 10 times, but skip (at least partially) when the value is 2 or 5. In Python, to force the start of the next loop iteration, use the keyword <b>continue</b>.</p>"
   ]
  },
  {
   "cell_type": "code",
   "execution_count": 13,
   "id": "a89d1787",
   "metadata": {},
   "outputs": [
    {
     "name": "stdout",
     "output_type": "stream",
     "text": [
      "0\n",
      "i != 2 & !=5\n",
      "1\n",
      "i != 2 & !=5\n",
      "2\n",
      "Special case\n",
      "3\n",
      "i != 2 & !=5\n",
      "4\n",
      "i != 2 & !=5\n",
      "5\n",
      "Special case\n",
      "6\n",
      "i != 2 & !=5\n",
      "7\n",
      "i != 2 & !=5\n",
      "8\n",
      "i != 2 & !=5\n",
      "9\n",
      "i != 2 & !=5\n"
     ]
    }
   ],
   "source": [
    "for i in range(10):\n",
    "    # statements executed in each iteration\n",
    "    print(i)\n",
    "    if (i==2) or (i==5):\n",
    "        print(\"Special case\")\n",
    "        continue\n",
    "    # statements not executed if i == 2 or 5\n",
    "    print(\"i != 2 & !=5\")"
   ]
  },
  {
   "cell_type": "markdown",
   "id": "1ff3f3c8",
   "metadata": {},
   "source": [
    "<p>You can also decide to interrupt the loop, for example when looking for a particular item in a list. For this, you will use the <b>break</b> keyword</p>"
   ]
  },
  {
   "cell_type": "code",
   "execution_count": 15,
   "id": "82eae99a",
   "metadata": {},
   "outputs": [
    {
     "name": "stdout",
     "output_type": "stream",
     "text": [
      "I have an orange\n"
     ]
    }
   ],
   "source": [
    "basket = [\"apple\", \"orange\", \"banana\"]\n",
    "\n",
    "for fruit in basket:\n",
    "    if fruit == \"orange\":\n",
    "        print(\"I have an orange\")\n",
    "        break"
   ]
  },
  {
   "cell_type": "code",
   "execution_count": null,
   "id": "3c2fe11c",
   "metadata": {},
   "outputs": [],
   "source": []
  }
 ],
 "metadata": {
  "kernelspec": {
   "display_name": "Python 3",
   "language": "python",
   "name": "python3"
  },
  "language_info": {
   "codemirror_mode": {
    "name": "ipython",
    "version": 3
   },
   "file_extension": ".py",
   "mimetype": "text/x-python",
   "name": "python",
   "nbconvert_exporter": "python",
   "pygments_lexer": "ipython3",
   "version": "3.8.5"
  }
 },
 "nbformat": 4,
 "nbformat_minor": 5
}
