{
 "cells": [
  {
   "cell_type": "markdown",
   "id": "1310c1a6",
   "metadata": {},
   "source": [
    "### A Module in Python"
   ]
  },
  {
   "cell_type": "markdown",
   "id": "e653c0ef",
   "metadata": {},
   "source": [
    "<p>A <b>module</b> is a Python file containing a set of predefined and operational <b>functions</b>, <b>classes</b> and <b>variables</b></p>"
   ]
  },
  {
   "cell_type": "code",
   "execution_count": 2,
   "id": "d54da048",
   "metadata": {},
   "outputs": [],
   "source": [
    "# Below is an example of a geometry module\n",
    "'''\n",
    "Module geometry.py\n",
    "'''\n",
    "\n",
    "# variables\n",
    "pi = 3.14159265359\n",
    "phi = 1.6180\n",
    "\n",
    "# function that calculates the area\n",
    "def area(obj):\n",
    "    if type(obj) == square:\n",
    "        return obj.a**2\n",
    "    \n",
    "# definitions of some classes\n",
    "class square(object):\n",
    "    def __init__(self,a):\n",
    "        self.a = a\n",
    "        \n",
    "class triangle(object):\n",
    "    def __init__(self,a,b,c):\n",
    "        self.a = a\n",
    "        self.b = b\n",
    "        self.c = c"
   ]
  },
  {
   "cell_type": "markdown",
   "id": "9a008fa3",
   "metadata": {},
   "source": [
    "<p>The module above can be imported in another file</p>"
   ]
  }
 ],
 "metadata": {
  "kernelspec": {
   "display_name": "Python 3",
   "language": "python",
   "name": "python3"
  },
  "language_info": {
   "codemirror_mode": {
    "name": "ipython",
    "version": 3
   },
   "file_extension": ".py",
   "mimetype": "text/x-python",
   "name": "python",
   "nbconvert_exporter": "python",
   "pygments_lexer": "ipython3",
   "version": "3.8.5"
  }
 },
 "nbformat": 4,
 "nbformat_minor": 5
}
