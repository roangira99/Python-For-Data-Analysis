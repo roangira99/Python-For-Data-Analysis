{
 "cells": [
  {
   "cell_type": "markdown",
   "id": "628d5d8e",
   "metadata": {},
   "source": [
    "### Python modules (continuation)"
   ]
  },
  {
   "cell_type": "markdown",
   "id": "80d6d78a",
   "metadata": {},
   "source": [
    "<p>To <b>import a module</b>, you will need the <b>import</b> keyword</p>"
   ]
  },
  {
   "cell_type": "code",
   "execution_count": 3,
   "id": "0e46b2d1",
   "metadata": {},
   "outputs": [],
   "source": [
    "import geometry"
   ]
  },
  {
   "cell_type": "markdown",
   "id": "fc0d11ba",
   "metadata": {},
   "source": [
    "<p>You can then use the different items defined in your module</p>"
   ]
  },
  {
   "cell_type": "code",
   "execution_count": 22,
   "id": "cc428e25",
   "metadata": {},
   "outputs": [],
   "source": [
    "squa = geometry.square(4)\n",
    "tri = geometry.triangle(3, 6, 5)"
   ]
  },
  {
   "cell_type": "code",
   "execution_count": 23,
   "id": "1edf4343",
   "metadata": {},
   "outputs": [
    {
     "name": "stdout",
     "output_type": "stream",
     "text": [
      "3.14159265359\n"
     ]
    }
   ],
   "source": [
    "print(geometry.pi)"
   ]
  },
  {
   "cell_type": "code",
   "execution_count": 24,
   "id": "3237f013",
   "metadata": {},
   "outputs": [
    {
     "data": {
      "text/plain": [
       "16"
      ]
     },
     "execution_count": 24,
     "metadata": {},
     "output_type": "execute_result"
    }
   ],
   "source": [
    "geometry.area(squa)"
   ]
  },
  {
   "cell_type": "code",
   "execution_count": 27,
   "id": "38836604",
   "metadata": {},
   "outputs": [],
   "source": [
    "import geometry as geo"
   ]
  },
  {
   "cell_type": "code",
   "execution_count": 30,
   "id": "e236d81d",
   "metadata": {},
   "outputs": [],
   "source": [
    "squa2 = geo.square(4)"
   ]
  },
  {
   "cell_type": "code",
   "execution_count": 31,
   "id": "d59397b5",
   "metadata": {},
   "outputs": [
    {
     "data": {
      "text/plain": [
       "16"
      ]
     },
     "execution_count": 31,
     "metadata": {},
     "output_type": "execute_result"
    }
   ],
   "source": [
    "geo.area(squa2)"
   ]
  },
  {
   "cell_type": "code",
   "execution_count": 32,
   "id": "acf6a1d0",
   "metadata": {},
   "outputs": [],
   "source": [
    "from geometry import pi"
   ]
  },
  {
   "cell_type": "code",
   "execution_count": 36,
   "id": "acef9327",
   "metadata": {},
   "outputs": [
    {
     "name": "stdout",
     "output_type": "stream",
     "text": [
      "3.14159265359\n"
     ]
    }
   ],
   "source": [
    "print(pi)"
   ]
  },
  {
   "cell_type": "code",
   "execution_count": 35,
   "id": "dd5e982c",
   "metadata": {},
   "outputs": [
    {
     "name": "stdout",
     "output_type": "stream",
     "text": [
      "50.26548245744\n"
     ]
    }
   ],
   "source": [
    "print(pi * geo.area(squa2))"
   ]
  },
  {
   "cell_type": "code",
   "execution_count": 40,
   "id": "2919862f",
   "metadata": {},
   "outputs": [],
   "source": [
    "# importing all objects contained in a module\n",
    "from geometry import *\n",
    "# However, this is not recommended, in order to avoid, for examle, conflicts between \n",
    "# several modules having identical function names"
   ]
  },
  {
   "cell_type": "markdown",
   "id": "5c92a8b0",
   "metadata": {},
   "source": [
    "### When a module is not enough: Packages"
   ]
  },
  {
   "cell_type": "markdown",
   "id": "baa8f5ed",
   "metadata": {},
   "source": [
    "<p>A package (sometimes called a <b>library</b>) is a collection of <b>Python modules.</b><br>A package is simply a folder containing several Python files and an additional file named <b>__init__.py</b>. This differentiates a package from an ordinary folder containing only Python codes.</p>"
   ]
  },
  {
   "cell_type": "markdown",
   "id": "db01950e",
   "metadata": {},
   "source": [
    "<p>You will need to use the <b>.</b> operator to access the module after importing the package. For example, if our geometry module above was to be put inside a package(file) also named geometry, this is how we would access it:</p>"
   ]
  },
  {
   "cell_type": "code",
   "execution_count": null,
   "id": "a8504676",
   "metadata": {},
   "outputs": [],
   "source": [
    "import geometry # import all the geometry package\n",
    "\n",
    "print(geometry.variables.pi) # -> 3.145...\n",
    "squa = geometry.classes.square(4)\n",
    "geometry.functions.area(squa)\n",
    "\n",
    "# The operations above show that our geometry module is in \n",
    "# three different files instead of just one namely variables, \n",
    "# classes and funtions"
   ]
  },
  {
   "cell_type": "markdown",
   "id": "44069318",
   "metadata": {},
   "source": [
    "<p>You can also import only one module from the package</p>"
   ]
  },
  {
   "cell_type": "code",
   "execution_count": null,
   "id": "0c0642bc",
   "metadata": {},
   "outputs": [],
   "source": [
    "import geometry,variables as var\n",
    "\n",
    "print(var.pi) # 3.1415"
   ]
  },
  {
   "cell_type": "markdown",
   "id": "2e237f3c",
   "metadata": {},
   "source": [
    "### Packages in Data Analysis"
   ]
  },
  {
   "cell_type": "markdown",
   "id": "f8693fa2",
   "metadata": {},
   "source": [
    "<p>Packages have a variety of capabilities that enable you to do multiple tasks such as:<br>• <b>manipulate your data</b> to facilitate analysis<br>• make <b> various relevant graphs</b> representing the behaviour of your data<br>• use <b>statistical methods</b><br>• run <b>machine learning algorithms</b> of varying complexity</p>"
   ]
  },
  {
   "cell_type": "markdown",
   "id": "8e891dce",
   "metadata": {},
   "source": [
    "<p>For example, the <b>numpy</b> package which offers various functions for performin calculations:</p>"
   ]
  },
  {
   "cell_type": "code",
   "execution_count": 43,
   "id": "c1354231",
   "metadata": {},
   "outputs": [
    {
     "data": {
      "text/plain": [
       "4.0"
      ]
     },
     "execution_count": 43,
     "metadata": {},
     "output_type": "execute_result"
    }
   ],
   "source": [
    "import numpy as np\n",
    "np.sqrt(16)"
   ]
  },
  {
   "cell_type": "code",
   "execution_count": null,
   "id": "5f374e2f",
   "metadata": {},
   "outputs": [],
   "source": []
  }
 ],
 "metadata": {
  "kernelspec": {
   "display_name": "Python 3",
   "language": "python",
   "name": "python3"
  },
  "language_info": {
   "codemirror_mode": {
    "name": "ipython",
    "version": 3
   },
   "file_extension": ".py",
   "mimetype": "text/x-python",
   "name": "python",
   "nbconvert_exporter": "python",
   "pygments_lexer": "ipython3",
   "version": "3.8.5"
  }
 },
 "nbformat": 4,
 "nbformat_minor": 5
}
