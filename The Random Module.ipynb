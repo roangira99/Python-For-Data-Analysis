{
 "cells": [
  {
   "cell_type": "markdown",
   "id": "3d4e7f40",
   "metadata": {},
   "source": [
    "<p>The <b>random</b> module contains several functions for generating random numbers or sequences of numbers.</p>"
   ]
  },
  {
   "cell_type": "markdown",
   "id": "edfd9dc5",
   "metadata": {},
   "source": [
    "<p>The random module is imported from the random package.<br>The basic function for generating random numbers is called <b>random()</b>. It will generate a <b>random float between 0 and 1</b> (not including 0 or 1)</p>"
   ]
  },
  {
   "cell_type": "code",
   "execution_count": 1,
   "id": "9494bea2",
   "metadata": {},
   "outputs": [],
   "source": [
    "import random"
   ]
  },
  {
   "cell_type": "code",
   "execution_count": 3,
   "id": "2652f9cc",
   "metadata": {},
   "outputs": [
    {
     "name": "stdout",
     "output_type": "stream",
     "text": [
      "0.4964534817429934\n",
      "0.8687424219702455\n",
      "0.07021718231442164\n"
     ]
    }
   ],
   "source": [
    "for i in range(3):\n",
    "    print(random.random())"
   ]
  },
  {
   "cell_type": "markdown",
   "id": "8de374d6",
   "metadata": {},
   "source": [
    "<p>Other functions that let you generate a random number in a given range include:<br><b>uniform(a,b):</b> will generate a random float between a and b<br><b>randint(a, b):</b> will generate a random integer between a and b</p>"
   ]
  },
  {
   "cell_type": "code",
   "execution_count": 5,
   "id": "210e5eee",
   "metadata": {},
   "outputs": [
    {
     "name": "stdout",
     "output_type": "stream",
     "text": [
      "Example of the uniform function:\n",
      "6.29438959681101\n",
      "8.295322983999359\n",
      "7.028067006317066\n",
      "-------------------------------\n",
      "Example of the randint function:\n",
      "8\n",
      "7\n",
      "7\n"
     ]
    }
   ],
   "source": [
    "print('Example of the uniform function:')\n",
    "for i in range(3):\n",
    "    print(random.uniform(5, 10))\n",
    "    \n",
    "print('-------------------------------')\n",
    "print('Example of the randint function:')\n",
    "for i in range(3):\n",
    "    print(random.randint(5, 10))"
   ]
  },
  {
   "cell_type": "markdown",
   "id": "b9fcaff6",
   "metadata": {},
   "source": [
    "#### Generate a random number according to a given distribution"
   ]
  },
  {
   "cell_type": "markdown",
   "id": "6e4a36d0",
   "metadata": {},
   "source": [
    "<p>The random module can also generate a random number according to a distribution. One of the best known is the Gaussian (or normal) distribution<br> The <b>normal law</b> is one of the most suitable probability laws to model natural phenomena resulting from several random events. These are all phenomena where the majority of individuals are around an average with decreasing proportions below and above the average.<br> The random module lets you generate random numbers according to this law. The corresponding function is called <b>gauss(mean, standard_deviation)</b>.<br>Here is an example with a mean distribution centered at 0 and with a standard deviation of 1(\"which is a conventional normal distribution\"):</p>"
   ]
  },
  {
   "cell_type": "code",
   "execution_count": 6,
   "id": "c9af31ef",
   "metadata": {},
   "outputs": [
    {
     "name": "stdout",
     "output_type": "stream",
     "text": [
      "-0.5775797761375807\n",
      "-1.2234936987387939\n",
      "-0.4683423731405774\n",
      "0.4126824413014374\n",
      "2.2830835484941896\n",
      "-1.7593215017178385\n",
      "-1.7095021103421788\n",
      "0.2754128107125081\n",
      "-0.9630072896672722\n",
      "-1.7312340553629932\n"
     ]
    }
   ],
   "source": [
    "for i in range(10):\n",
    "    print(random.gauss(0, 1))"
   ]
  },
  {
   "cell_type": "markdown",
   "id": "30091ab7",
   "metadata": {},
   "source": [
    "#### Choosing randomly from a list: Subsampling"
   ]
  },
  {
   "cell_type": "markdown",
   "id": "f1dd3478",
   "metadata": {},
   "source": [
    "<p>The random module has the <b>choice</b> function that lets you randomly select values within a list</p>"
   ]
  },
  {
   "cell_type": "code",
   "execution_count": 7,
   "id": "7a7a5da4",
   "metadata": {},
   "outputs": [
    {
     "name": "stdout",
     "output_type": "stream",
     "text": [
      "three\n",
      "five\n",
      "five\n"
     ]
    }
   ],
   "source": [
    "list = ['one', 'two', 'three', 'four', 'five']\n",
    "for i in range(3):\n",
    "    print(random.choice(list))"
   ]
  },
  {
   "cell_type": "markdown",
   "id": "50f54ad3",
   "metadata": {},
   "source": [
    "<p>The evolution of this is the <b>choices</b> function, now making it possible to select a sample from the initial list, <b>with replacement</b>. This is called <b>subsampling</b>.</p>"
   ]
  },
  {
   "cell_type": "code",
   "execution_count": 10,
   "id": "6e39e61d",
   "metadata": {},
   "outputs": [
    {
     "name": "stdout",
     "output_type": "stream",
     "text": [
      "['two', 'five']\n",
      "['four', 'five', 'two']\n",
      "['three', 'two', 'four', 'two', 'two']\n"
     ]
    }
   ],
   "source": [
    "print(random.choices(list, k=2))\n",
    "print(random.choices(list, k=3))\n",
    "print(random.choices(list, k=5))"
   ]
  },
  {
   "cell_type": "markdown",
   "id": "c7333473",
   "metadata": {},
   "source": [
    "<p>The corresponding function, for a sample <b>without replacement</b> is <b>sample()</b></p>"
   ]
  },
  {
   "cell_type": "code",
   "execution_count": 11,
   "id": "0a49f9e6",
   "metadata": {},
   "outputs": [
    {
     "name": "stdout",
     "output_type": "stream",
     "text": [
      "['five', 'three']\n",
      "['three', 'five', 'four']\n",
      "['three', 'one', 'two', 'four', 'five']\n"
     ]
    }
   ],
   "source": [
    "print(random.sample(list, 2))\n",
    "print(random.sample(list, 3))\n",
    "print(random.sample(list, 5))"
   ]
  },
  {
   "cell_type": "markdown",
   "id": "13522e33",
   "metadata": {},
   "source": [
    "<p>In data analysis, this concept of subsampling is essential as it can select a sample from an initial population. In statistics, a sample is a set of individuals representative of a population. The use of a subsample is generally a solution to a practical constraint that does not allow an exhaustive study of the entire population e.g lack of time, financial cost etc.</p>"
   ]
  },
  {
   "cell_type": "code",
   "execution_count": null,
   "id": "71deedf0",
   "metadata": {},
   "outputs": [],
   "source": []
  }
 ],
 "metadata": {
  "kernelspec": {
   "display_name": "Python 3",
   "language": "python",
   "name": "python3"
  },
  "language_info": {
   "codemirror_mode": {
    "name": "ipython",
    "version": 3
   },
   "file_extension": ".py",
   "mimetype": "text/x-python",
   "name": "python",
   "nbconvert_exporter": "python",
   "pygments_lexer": "ipython3",
   "version": "3.8.5"
  }
 },
 "nbformat": 4,
 "nbformat_minor": 5
}
