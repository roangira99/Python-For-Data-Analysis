{
 "cells": [
  {
   "cell_type": "markdown",
   "id": "5b1c63c1",
   "metadata": {},
   "source": [
    "## Lists"
   ]
  },
  {
   "cell_type": "markdown",
   "id": "618b4ca2",
   "metadata": {},
   "source": [
    "<p>Lists are objects that can contain a collection of objects of any type.</p><br><p>Lists are <b>ordered objects</b> i.e., each item of the lists is associated with a number corresponding to its order in the list. This number is called an <b>index</b> and its starts at 0, therefore, the first item is associated with index 0.</p>"
   ]
  },
  {
   "cell_type": "code",
   "execution_count": 1,
   "id": "8e91fa7d",
   "metadata": {},
   "outputs": [],
   "source": [
    "# Declaring a list\n",
    "customerName = ['Marion Waever', 'Alberto Mendoza', 'Katharine Tyler', 'Isacc Steele']"
   ]
  },
  {
   "cell_type": "code",
   "execution_count": 2,
   "id": "a9209117",
   "metadata": {},
   "outputs": [
    {
     "name": "stdout",
     "output_type": "stream",
     "text": [
      "Marianne Weaver\n"
     ]
    }
   ],
   "source": [
    "# Changing the value at a given index\n",
    "customerName[0] = 'Marianne Weaver'\n",
    "print(customerName[0])"
   ]
  },
  {
   "cell_type": "code",
   "execution_count": 3,
   "id": "0a295003",
   "metadata": {},
   "outputs": [
    {
     "name": "stdout",
     "output_type": "stream",
     "text": [
      "Isacc Steele\n"
     ]
    }
   ],
   "source": [
    "# Accessing the last item in the list\n",
    "print(customerName[-1])"
   ]
  },
  {
   "cell_type": "code",
   "execution_count": 4,
   "id": "451f69eb",
   "metadata": {},
   "outputs": [
    {
     "name": "stdout",
     "output_type": "stream",
     "text": [
      "Isaac Steele\n"
     ]
    }
   ],
   "source": [
    "customerName[-1] = 'Isaac Steele'\n",
    "print(customerName[-1])"
   ]
  },
  {
   "cell_type": "code",
   "execution_count": 5,
   "id": "9730f76b",
   "metadata": {},
   "outputs": [
    {
     "name": "stdout",
     "output_type": "stream",
     "text": [
      "['Alberto Mendoza', 'Katharine Tyler']\n"
     ]
    }
   ],
   "source": [
    "# Accessing an index range\n",
    "print(customerName[1:3])"
   ]
  },
  {
   "cell_type": "code",
   "execution_count": 7,
   "id": "17c04a44",
   "metadata": {},
   "outputs": [
    {
     "name": "stdout",
     "output_type": "stream",
     "text": [
      "['Marianne Weaver', 'Alberto Mendoza']\n"
     ]
    }
   ],
   "source": [
    "print(customerName[:2])"
   ]
  },
  {
   "cell_type": "code",
   "execution_count": 8,
   "id": "c9e9a048",
   "metadata": {},
   "outputs": [
    {
     "name": "stdout",
     "output_type": "stream",
     "text": [
      "1800.74\n"
     ]
    }
   ],
   "source": [
    "amountAccount = [1000, 150, 30, 1800.74]\n",
    "print(amountAccount[-1])"
   ]
  },
  {
   "cell_type": "code",
   "execution_count": 9,
   "id": "b433f58a",
   "metadata": {},
   "outputs": [
    {
     "name": "stdout",
     "output_type": "stream",
     "text": [
      "['another list', 1]\n"
     ]
    }
   ],
   "source": [
    "strangeList = [4, 10.2, 'Marionne Weaver', ['another list', 1]]\n",
    "print(strangeList[3])"
   ]
  },
  {
   "cell_type": "markdown",
   "id": "f6ae7d7b",
   "metadata": {},
   "source": [
    "### List Methods"
   ]
  },
  {
   "cell_type": "markdown",
   "id": "b3a5cb83",
   "metadata": {},
   "source": [
    "<p>Lists are mutable and have various methods that can be used to manipulate values within them.</p><br><p>Because of these methods, we can:<br>• <b>search for</b> a specific item in the list<br>• <b>add</b> a new item to the end<br>• <b>insert</b> e new item at a specific index<br>• <b>delete</b> an item from the list</p>"
   ]
  },
  {
   "cell_type": "markdown",
   "id": "4f86e4d6",
   "metadata": {},
   "source": [
    "#### Add items to a list"
   ]
  },
  {
   "cell_type": "code",
   "execution_count": 10,
   "id": "c879ba30",
   "metadata": {},
   "outputs": [
    {
     "name": "stdout",
     "output_type": "stream",
     "text": [
      "['lamborghini', 84]\n"
     ]
    }
   ],
   "source": [
    "# This is done using the append method\n",
    "list = []\n",
    "list.append(\"lamborghini\")\n",
    "list.append(84)\n",
    "print(list)"
   ]
  },
  {
   "cell_type": "markdown",
   "id": "87b5ff60",
   "metadata": {},
   "source": [
    "<p> list.append in this case modifies the original object, unlike the string methods previously. </p>"
   ]
  },
  {
   "cell_type": "markdown",
   "id": "2e925fb9",
   "metadata": {},
   "source": [
    "<p>Other essential methods include:<br> • <b>insert</b> to insert a new item at a specific position<br> • <b>extend</b> allows you to concatenate several lists together<br> • <b>remove</b> searches for the given item in the list and deletes the first occurrence<br> • <b>index</b> lets you find the index of the first occurrence of an item to be searched for in the list<br> • Keyword <b>del</b> to delete an item according to its index</p>"
   ]
  },
  {
   "cell_type": "code",
   "execution_count": 18,
   "id": "9f16f753",
   "metadata": {},
   "outputs": [
    {
     "name": "stdout",
     "output_type": "stream",
     "text": [
      "[]\n",
      "[7]\n",
      "[7, 5]\n",
      "[7, 12, 5]\n",
      "[4, 12, 5]\n",
      "[4, 5]\n",
      "1\n",
      "[4, 5, 1, 2, 3]\n",
      "[4, 5, 1, 3]\n"
     ]
    }
   ],
   "source": [
    "list = []\n",
    "print(list)\n",
    "list.append(7)\n",
    "print(list)\n",
    "list.append(5)\n",
    "print(list)\n",
    "list.insert(1, 12)\n",
    "print(list)\n",
    "list[0] = 4\n",
    "print(list)\n",
    "list.remove(12)\n",
    "print(list)\n",
    "print(list.index(5))\n",
    "list.extend([1, 2, 3])\n",
    "print(list)\n",
    "del list[3]\n",
    "print(list)"
   ]
  },
  {
   "cell_type": "markdown",
   "id": "82ba25be",
   "metadata": {},
   "source": [
    "#### Keep control of your list"
   ]
  },
  {
   "cell_type": "code",
   "execution_count": 19,
   "id": "b211c6b3",
   "metadata": {},
   "outputs": [
    {
     "name": "stdout",
     "output_type": "stream",
     "text": [
      "3\n"
     ]
    }
   ],
   "source": [
    "# The len() function lets you retrieve the size of your list\n",
    "list = [1, 2, 3]\n",
    "print(len(list))"
   ]
  },
  {
   "cell_type": "markdown",
   "id": "044ecab9",
   "metadata": {},
   "source": [
    "### Use Dictionaries"
   ]
  },
  {
   "cell_type": "markdown",
   "id": "55e9fffb",
   "metadata": {},
   "source": [
    "<p>A <b>dictionary</b> is a list of items organized via a <b>system of keys</b>. This is made possible by using a <b>key-value</b> pair.<br><b>Each key</b> in the dictionary must be <b>unique</b>. Strings are generally used to define keys, but this is not a requirement</p>"
   ]
  },
  {
   "cell_type": "markdown",
   "id": "6f13b48a",
   "metadata": {},
   "source": [
    "#### Declare a Dictionary"
   ]
  },
  {
   "cell_type": "markdown",
   "id": "77837524",
   "metadata": {},
   "source": [
    "<p>A dictionary uses <b>curly braces</b> in its declaration instead of square brackets, and key-value pairs must be declared:</p>"
   ]
  },
  {
   "cell_type": "code",
   "execution_count": 21,
   "id": "54615197",
   "metadata": {},
   "outputs": [
    {
     "name": "stdout",
     "output_type": "stream",
     "text": [
      "150\n"
     ]
    }
   ],
   "source": [
    "accounts = {'Marion Weaver': 1000, 'Alberto Mendoza': 150, 'Katharine Tyler': 300, 'Isaac Steele': 1800.74}\n",
    "print(accounts['Alberto Mendoza'])"
   ]
  },
  {
   "cell_type": "markdown",
   "id": "d78b6073",
   "metadata": {},
   "source": [
    "#### Manipulate items of a Dictionary"
   ]
  },
  {
   "cell_type": "markdown",
   "id": "e6af8380",
   "metadata": {},
   "source": [
    "<p>The operations frequently performed with dictionaries include:<br> • <b>Access</b> the value of an item<br> • <b>Add</b> a new item (a new key-value pair)<br> • <b>Delete</b> an item via its key</p>"
   ]
  },
  {
   "cell_type": "code",
   "execution_count": 22,
   "id": "037673c3",
   "metadata": {},
   "outputs": [
    {
     "name": "stdout",
     "output_type": "stream",
     "text": [
      "800\n"
     ]
    }
   ],
   "source": [
    "accounts['Marion Weaver'] -= 200 # subtract 200 from Marion's account\n",
    "print(accounts['Marion Weaver'])"
   ]
  },
  {
   "cell_type": "code",
   "execution_count": 23,
   "id": "a081b136",
   "metadata": {},
   "outputs": [
    {
     "name": "stdout",
     "output_type": "stream",
     "text": [
      "{'Marion Weaver': 800, 'Alberto Mendoza': 150, 'Katharine Tyler': 300, 'Isaac Steele': 1800.74, 'Kristina Roach': 1000}\n"
     ]
    }
   ],
   "source": [
    "accounts['Kristina Roach'] = 1000 # Add a new individual to the dictionary\n",
    "print(accounts)"
   ]
  },
  {
   "cell_type": "code",
   "execution_count": 24,
   "id": "2c9b1b5e",
   "metadata": {},
   "outputs": [
    {
     "name": "stdout",
     "output_type": "stream",
     "text": [
      "{'Marion Weaver': 800, 'Katharine Tyler': 300, 'Isaac Steele': 1800.74, 'Kristina Roach': 1000}\n"
     ]
    }
   ],
   "source": [
    "# You can delete an item via the pop() method by specifying the key of the item you want to delete.\n",
    "accounts.pop('Alberto Mendoza')\n",
    "print(accounts)"
   ]
  },
  {
   "cell_type": "code",
   "execution_count": 25,
   "id": "0b420e4c",
   "metadata": {},
   "outputs": [
    {
     "data": {
      "text/plain": [
       "4"
      ]
     },
     "execution_count": 25,
     "metadata": {},
     "output_type": "execute_result"
    }
   ],
   "source": [
    "len(accounts)"
   ]
  },
  {
   "cell_type": "markdown",
   "id": "68ab7e39",
   "metadata": {},
   "source": [
    "### Understand Immutable Tuples"
   ]
  },
  {
   "cell_type": "markdown",
   "id": "8e23cd84",
   "metadata": {},
   "source": [
    "<p>Just like lists, they are <b>ordered objects</b> which can be used to access different items stored within them using their index.<br>The main difference is that once a tuple has been declared, it <b>cannot</b> be modified. This makes it <b>immutable.</b></p>"
   ]
  },
  {
   "cell_type": "markdown",
   "id": "821ad091",
   "metadata": {},
   "source": [
    "#### Declare a Tuple"
   ]
  },
  {
   "cell_type": "markdown",
   "id": "56d651ab",
   "metadata": {},
   "source": [
    "<p>Tuples are declared in a very similar way to lists, except <b>parentheses</b> are used instead of square brackets.</p>"
   ]
  },
  {
   "cell_type": "code",
   "execution_count": 26,
   "id": "f24556dc",
   "metadata": {},
   "outputs": [
    {
     "name": "stdout",
     "output_type": "stream",
     "text": [
      "(1, 2, 3, 'a', 'b')\n"
     ]
    }
   ],
   "source": [
    "my_tuple = (1, 2, 3, 'a', 'b')\n",
    "print(my_tuple)"
   ]
  },
  {
   "cell_type": "markdown",
   "id": "a6e4f936",
   "metadata": {},
   "source": [
    "#### Manipulate Tuples"
   ]
  },
  {
   "cell_type": "code",
   "execution_count": 27,
   "id": "22098f85",
   "metadata": {},
   "outputs": [
    {
     "name": "stdout",
     "output_type": "stream",
     "text": [
      "2\n",
      "b\n"
     ]
    }
   ],
   "source": [
    "print(my_tuple[1])\n",
    "print(my_tuple[4])"
   ]
  },
  {
   "cell_type": "markdown",
   "id": "fe7a8b94",
   "metadata": {},
   "source": [
    "<p> You can declare several variables at the same time from a tuple </p>"
   ]
  },
  {
   "cell_type": "code",
   "execution_count": 28,
   "id": "2f8e69be",
   "metadata": {},
   "outputs": [
    {
     "name": "stdout",
     "output_type": "stream",
     "text": [
      "1\n",
      "apple\n"
     ]
    }
   ],
   "source": [
    "a, b = (1, 'apple')\n",
    "print(a)\n",
    "print(b)"
   ]
  },
  {
   "cell_type": "markdown",
   "id": "c2822a5d",
   "metadata": {},
   "source": [
    "<p>However, you will get an error if you try to modify your tuple in any way:</p>"
   ]
  },
  {
   "cell_type": "code",
   "execution_count": 29,
   "id": "3fbedd4f",
   "metadata": {},
   "outputs": [
    {
     "ename": "TypeError",
     "evalue": "'tuple' object does not support item assignment",
     "output_type": "error",
     "traceback": [
      "\u001b[1;31m---------------------------------------------------------------------------\u001b[0m",
      "\u001b[1;31mTypeError\u001b[0m                                 Traceback (most recent call last)",
      "\u001b[1;32m<ipython-input-29-d026a7f921ce>\u001b[0m in \u001b[0;36m<module>\u001b[1;34m\u001b[0m\n\u001b[1;32m----> 1\u001b[1;33m \u001b[0mmy_tuple\u001b[0m\u001b[1;33m[\u001b[0m\u001b[1;36m0\u001b[0m\u001b[1;33m]\u001b[0m \u001b[1;33m=\u001b[0m \u001b[1;34m'one'\u001b[0m\u001b[1;33m\u001b[0m\u001b[1;33m\u001b[0m\u001b[0m\n\u001b[0m",
      "\u001b[1;31mTypeError\u001b[0m: 'tuple' object does not support item assignment"
     ]
    }
   ],
   "source": [
    "my_tuple[0] = 'one'"
   ]
  },
  {
   "cell_type": "markdown",
   "id": "adc02e58",
   "metadata": {},
   "source": [
    "#### Recap"
   ]
  },
  {
   "cell_type": "markdown",
   "id": "1447c197",
   "metadata": {},
   "source": [
    "<p>• <b>Lists</b> are <b>ordered, editable</b> collection where each item is asociated with an <b>index</b><br>• <b>Dictionaries</b> are <b>unordered, editable</b> collection where each item is associated with a <b>key</b><br>• <b>Tuples</b> are <b>ordered, uneditable/immutable</b> collection where each item is associated with an <b>index</b></p>"
   ]
  },
  {
   "cell_type": "code",
   "execution_count": null,
   "id": "a1bb8e5c",
   "metadata": {},
   "outputs": [],
   "source": []
  }
 ],
 "metadata": {
  "kernelspec": {
   "display_name": "Python 3",
   "language": "python",
   "name": "python3"
  },
  "language_info": {
   "codemirror_mode": {
    "name": "ipython",
    "version": 3
   },
   "file_extension": ".py",
   "mimetype": "text/x-python",
   "name": "python",
   "nbconvert_exporter": "python",
   "pygments_lexer": "ipython3",
   "version": "3.8.5"
  }
 },
 "nbformat": 4,
 "nbformat_minor": 5
}
